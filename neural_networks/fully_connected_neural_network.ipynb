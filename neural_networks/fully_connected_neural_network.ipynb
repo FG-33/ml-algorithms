{
 "cells": [
  {
   "cell_type": "markdown",
   "metadata": {},
   "source": [
    "# Neural Network\n",
    "-----\n",
    "\n",
    "NOTE: Please read this notebook [here](https://nbviewer.jupyter.org/github/FG-33/ml-algorithms/blob/master/neural_networks/fully_connected_neural_network.ipynb?flush_cache=true). It is not rendered properly on Github.\n",
    "\n",
    "This notebook was created using the concepts and ideas conveyed in Stanford's lecture/course *Machine Learning* by Andrew Ng.\n",
    "\n",
    "Prerequisite: [logistic regression](../regression_analysis/logistic_regression.ipynb)\n",
    "\n",
    "## Theory\n",
    "\n",
    "The fundamental inspiration of neural networks is the human brain. A neural network consists of multiple components called neurons. Same as its inspirational counterpart the neuron of a neural network consists of an arbitrary number of inputs and outputs. The following images bring the two face to face:\n",
    "\n",
    "\n",
    "![](graphics/biological_neuron_modified_small.png)\n",
    "<html><div style=\"text-align: right\"> [1] </div></html>\n",
    "\n",
    "![](graphics/artificial_neuron_small.png)\n",
    "<html><div style=\"text-align: right\"> [2] </div></html>\n",
    "\n",
    "In a biological neuron the dendrite and dendrite branches function as the signal inputs while the telodendria forwards the resulting (outgoing) signal. In the artificial neuron the input signals are received via input parameters $x$ which can be represented as an input vector $\\vec{x}$. The output $y$ is the result of the internal calculations of the neuron after receiving the input signals $\\vec{x}$. Each input $x$ is multiplied by a distinct parameter $w$ also called *weight* of an input. The products of each input as well as a constant $b$ also called the *bias* of a neuron are then accumulated and a function $f$, also called *activation function*, is applied. The result is the output $y$. While this seems quite similar to the biological neuron this is where the similarities between an artificial neural network and the human brain ends.\n",
    "\n",
    "The calculations inside the artificial neuron can be represented by the following equaition:\n",
    "\n",
    "$$\\begin{eqnarray}\n",
    "y = f(\\vec{w} \\cdot \\vec{x}) &&& \\text{with} &&& \\vec{w} = \\begin{bmatrix} b & w_1 & .. & w_{n-1} \\end{bmatrix}, \\vec{x} = \\begin{bmatrix} 1 \\\\ x_1 \\\\ .. \\\\ x_{n-1} \\end{bmatrix}\n",
    "\\tag{1}\n",
    "\\end{eqnarray}$$\n",
    "\n",
    "This is equivalent to $h_\\theta(x)$ of the logistic regression if $f$ is the sigmoid function. The similarity implies what a single artificial neuron is capable of. Therefore a single neuron is capable if representing quite complex problems.\n",
    "\n",
    "Nonetheless there are limits to what a single neuron can represent as will be shown in the following paragraph.\n",
    "Let's assume a simple configuration of a single neuron with two inputs which can only be 0 and their corresponding weights $w_1 = 2$, $w_2 = 2$ and $b = -3$. $f$ is the *identity function* ($f(x) = x$). On top of the function $f$ a threshold will be applied at the result (Obviously this is not included in the given schematic above but small modifications are easy to apply).If the result is greater than 0 the output value will be 1 while it will be 0 in other cases. This configuration is shown in the following image:\n",
    "\n",
    "![](graphics/artificial_neuron_example.png)\n",
    "\n",
    "With these values the neuron realises a logical NAND. An example for something that cannot be realised by using a single neuron is the logical XOR. Every possible logical function can be realized using only NANDs which means that every possible logical function can be realized combining multiple neurons. The resulting structure is called an artificial neural network (ANN). As shown below an ANN is structured into different types of layers. These are classified as input layer, an arbitrary number of hidden layers and an output layer. In these types of neural networks each neuron in layer $i$ is connected to every neurons output in layer $i-1$ and therefore called *fully-connected*.\n",
    "\n",
    "![](graphics/artificial_neuron_network.png)\n",
    "\n",
    "In general $n$ the number of input and $K$ the number of output neurons is specific to the problem and therefore relatively easy to determine. The number of hidden layers L and $s_l$ the number of neurons in each of them directly correlates to the number of input and output neurons as well as the complexity of the problem. \n",
    "The more complex the problem the bigger (more layers/more neurons) the neural network. Often multiple different configurations are tested and compared with each other to determine a good fit for the problem.\n",
    "\n",
    "To determine the neurons weights and bias, a cost function as well as gradient descent will be used. In this case another concept is introduced which is called *backpropagation*. The usage of backpropagation is necessary because a neural network is a set of neurons stacked on top of each other (in contrast the previously presented regression analysis concepts only ever used a single neuron). \n",
    "\n",
    "#### Cost Function\n",
    "\n",
    "The cost function is almost identical to the one used in logistic regression. One of the differences being $y$ which is now a vector instead of a value. Therefore the cost is not only summarized for all training samples $m$ but also for each output $k$. Furthermore the regularization term is adjusted so that $w$ of every layer is included:\n",
    "\n",
    "$$\\begin{eqnarray}\n",
    "J(\\theta) = -\\frac{1}{m} \\left[ \\sum_{i=1}^m \\sum_{k=1}^K y_k^{(i)} log(h_{w}(x^{(i)}))_k + (1 - y_k^{(i)})\\; log(1 - h_{w}(x^{(i)}))_k \\right] + \\frac{\\lambda}{2m} \\sum_{l=1}^{L-1}\\sum_{i=1}^{s_l}\\sum_{j=1}^{s_{l+1}} (w_{ij}^{(l)})^2\n",
    "\\tag{2}\n",
    "\\end{eqnarray}$$\n",
    "\n",
    "Another difference is $h_{w}(x)$. $h$ is now not only compromised of a single vector product and the appliance of the sigmoid function as it is in logistic regression. It contains the calculations for each neuron in every layer. The first layers output is calculated at the beginning using $\\vec{x}$ of the training data. The first layers output is then *fed* to the second layer used as it's input. This process is called *feedforward*. The following example will demonstrate this process:\n",
    "\n",
    "![](graphics/neural_network_example.png)\n",
    "\n",
    "Displayed is a simple neural network with two input neurons, a single hidden layer that consists of three neurons and two neurons in the output layer. The notation inside the neurons represents the output of the respective neuron. Therefore $a_1^{(2)}$ represents the output of the first neuron in the second layer of the neural network. The connections between the neurons represent the *weights* of the network. The bias is represented as a \"constant neuron\" that always outputs the value $1$ multiplied with a weight. $w_{01}^{(1)}$ in the schematic above is equivalent to $b$ in (1). The calculations for each neuron are as follows:\n",
    "\n",
    "$$ a_1^{(2)} = f(w_{01}^{(1)} + x_1 * w_{11}^{(1)} + x_2 * w_{21}^{(1)}) \\tag{3a} \\\\ $$\n",
    "$$ a_2^{(2)} = f(w_{02}^{(1)} +x_1 * w_{12}^{(1)} + x_2 * w_{22}^{(1)}) \\tag{3b} \\\\ $$ \n",
    "$$ a_3^{(2)} = f(w_{03}^{(1)} +x_1 * w_{13}^{(1)} + x_2 * w_{23}^{(1)}) \\tag{3c} \\\\ $$\n",
    "\n",
    "$$ y_1 = f(w_{01}^{(2)} + a_1^{(2)} * w_{11}^{(2)} + a_2^{(2)} * w_{21}^{(2)} + a_3^{(2)} * w_{31}^{(2)}) \\tag{3d} \\\\ $$\n",
    "$$ y_2 = f(w_{02}^{(2)} + a_1^{(2)} * w_{12}^{(2)} + a_2^{(2)} * w_{22}^{(2)} + a_3^{(2)} * w_{32}^{(2)}) \\tag{3e} $$\n",
    "\n",
    "To simplify the calculation is vectorized:\n",
    "\n",
    "$$ a_1^{(2)} = f([w_{01}^{(1)} ~ w_{11}^{(1)} ~ w_{21}^{(1)}] \\cdot [1 ~ x_1 ~ x_2]^T) = f(w_1^{(1)} \\cdot \\vec{x}) \\tag{4a} \\\\ $$\n",
    "$$ a_2^{(2)} = f([w_{02}^{(1)} ~ w_{12}^{(1)} ~ w_{22}^{(1)}] \\cdot [1 ~ x_1 ~ x_2]^T) = f(w_2^{(1)} \\cdot \\vec{x}) \\tag{4b} \\\\ $$\n",
    "$$ a_3^{(2)} = f([w_{03}^{(1)} ~ w_{13}^{(1)} ~ w_{23}^{(1)}] \\cdot [1 ~ x_1 ~ x_2]^T) = f(w_3^{(1)} \\cdot \\vec{x}) \\tag{4c} \\\\ $$\n",
    "\n",
    "$$ y_1 = f([w_{01}^{(2)} ~ w_{11}^{(2)} ~ w_{21}^{(2)} ~ w_{31}^{(2)}] \\cdot [1 ~ a_1^{(2)} ~ a_2^{(2)} ~ a_3^{(2)}]^T) \\tag{4d} \\\\ $$\n",
    "$$ y_2 = f([w_{02}^{(2)} ~ w_{12}^{(2)} ~ w_{22}^{(2)} ~ w_{32}^{(2)}] \\cdot [1 ~ a_1^{(2)} ~ a_2^{(2)} ~ a_3^{(2)}]^T) \\tag{4e} \\\\ $$\n",
    "\n",
    "This can be summarized further:\n",
    "\n",
    "$$ a^{(2)} = \\left[\\begin{array}{} a_1^{(2)} \\\\ a_2^{(2)} \\\\ a_3^{(2)}\\end{array}\\right] = f(z^{(2)}) = \n",
    "f(\\left[\\begin{array}{} \n",
    "w_{01}^{(1)} & w_{11}^{(1)} & w_{21}^{(1)} \\\\\n",
    "w_{02}^{(1)} & w_{12}^{(1)} & w_{22}^{(1)} \\\\\n",
    "w_{03}^{(1)} & w_{13}^{(1)} & w_{23}^{(1)}\n",
    "\\end{array}\\right] \\cdot \\left[\\begin{array}{} 1 \\\\ x_1 \\\\ x_2 \\end{array}\\right]) = f(w^{(1)} \\cdot \\vec{x})\n",
    "\\tag{5a} \\\\ $$\n",
    " \n",
    "$$ y = \\left[\\begin{array}{} y_1 \\\\ y_2 \\end{array}\\right] = f(z^{(3)}) = a^{(3)} = \n",
    "f(\\left[\\begin{array}{} \n",
    "w_{01}^{(2)} & w_{11}^{(2)} & w_{21}^{(2)} & w_{31}^{(2)} \\\\\n",
    "w_{02}^{(2)} & w_{12}^{(2)} & w_{22}^{(2)}  & w_{32}^{(2)}\n",
    "\\end{array}\\right] \\cdot \\left[\\begin{array}{} 1 \\\\ a_1^{(2)} \\\\ a_2^{(2)} \\\\ a_3^{(2)} \\end{array}\\right])\n",
    " = f(w^{(2)} \\cdot a^{(2)}) = h_w(x) \\tag{5b} \\\\ $$\n",
    " \n",
    "$y$ corresponds to $h_w(x)$ for a single training sample. As long as the neural network is a fully-conntect one, this pattern can be applied to those with any number of layers consisting of any number of neurons. Note: after calculating $a^{(2)}$ a 1 was concatenated at the top of the vector!\n",
    "\n",
    "Because of the vectorized representation multiple inputs can be calculated in a single *forwarding* (this is more computational efficient). The input $\\vec{x}$ is then a $n$ times $m$ matrix $X$ with every column being a separate input sample:\n",
    "\n",
    "$$ a^{(2)} = \\left[\\begin{array}{} a_{1,1}^{(2)} & a_{1,2}^{(2)} \\\\ a_{2,1}^{(2)} & a_{2,2}^{(2)} \\\\ a_{3,1}^{(2)} & a_{3,2}^{(2)}\\end{array}\\right] = f(z^{(2)}) = \n",
    "f(\\left[\\begin{array}{} \n",
    "w_{01}^{(1)} & w_{11}^{(1)} & w_{21}^{(1)} \\\\\n",
    "w_{02}^{(1)} & w_{12}^{(1)} & w_{22}^{(1)} \\\\\n",
    "w_{03}^{(1)} & w_{13}^{(1)} & w_{23}^{(1)}\n",
    "\\end{array}\\right] \\cdot \\left[\\begin{array}{} 1 & 1 \\\\ x_{1,1} & x_{1,2} \\\\ x_{2,1} & x_{2,2} \\end{array}\\right]) = f(w^{(1)} \\cdot X)\n",
    "\\tag{6}$$\n",
    "\n",
    "The *,1* in the index of the values indicate that they belong to the first input sample. This notation is only used for the pupose of showing an example and is not used in the following sections. \n",
    "\n",
    "#### Backpropagation and Gradient Descent\n",
    "\n",
    "Essentially, gradient descent is used to train a neural network. Thus the old equation to update the weights ($\\theta$ in regression analysis) can be reused. The notation's adjusted to fit into this notebook:\n",
    "\n",
    "$$\\begin{eqnarray}\n",
    "w_{ij}^{(l),t+1} = w_{ij}^{(l),t} - \\alpha \\frac{\\partial}{\\partial w_{ij}^{(l)}} J(w)\n",
    "\\tag{7}\n",
    "\\end{eqnarray}$$\n",
    "\n",
    "Gradient descent starts at the very end of the neural network as the adjustment of the parameters $w$ directly depends on the outputs of the neural network. The adjustment for the last layer is almost equivalent to logistic regression (again use the example given above but vectorized):\n",
    "\n",
    "$$ w^{(2),t+1} = w^{(2),t} - \\alpha [\\frac{1}{m} \\Delta^{(2)} + \\lambda w^{(2)}] \\tag{8a} $$\n",
    "\n",
    "$$ \\Delta^{(2)} = \\delta^{(3)} (a^{(2)})^T  \\tag{8b} $$\n",
    "\n",
    "$$ \\delta^{(3)}  = h_w(x) - y  \\tag{8c} \\\\ $$\n",
    "\n",
    "The term $\\delta^{(3)}$ represents the error of the last/third layer (reminder: see $X \\theta - \\vec{y}$ in (6) of linear regression notebook). $\\delta^{(3)}$ is multiplied with the transposed $a^{(2)}$.  In the example given above $(a^{(2)})^T$ contains multiple input samples (as seen in (6)). Therefore also $y$ has to be a $K$ times $m$ matrix. The result $\\Delta^{(2)}$ is then used to adjust the weights in the second layer. Afterwards the error $\\delta^{(2)}$ is *backpropagated* to adjust previous layers in a similar manner. The equation to propagate $\\delta$ to the beginning of the ANN is as follows:\n",
    "\n",
    "$$\\begin{eqnarray}\n",
    "\\delta^{(2)}  = (w^{(2)})^T \\delta^{(3)} f'(z^{(3)})\n",
    "\\tag{9}\n",
    "\\end{eqnarray}$$\n",
    "\n",
    "If $f$ is the sigmoid function, it's derivative is as follows:\n",
    "\n",
    "$$\\begin{eqnarray}\n",
    "f'(z^{(3)}) = a^{(3)} (1 - a^{(3)})\n",
    "\\tag{10}\n",
    "\\end{eqnarray}$$\n",
    "\n",
    "Note: It should not be forgotten to add $1's$ to $a^{(3)}$ in (8) since the dimensions will be incompatible otherwise.\n",
    "\n",
    "-----"
   ]
  },
  {
   "cell_type": "markdown",
   "metadata": {},
   "source": [
    "## Implementation"
   ]
  },
  {
   "cell_type": "code",
   "execution_count": 1,
   "metadata": {},
   "outputs": [],
   "source": [
    "import numpy as np\n",
    "\n",
    "def f(x):\n",
    "    \"\"\" The sigmoid function.\n",
    "    \n",
    "    :param x: input data, feature matrix\n",
    "    \n",
    "    :return output: output values for the inputs given in x\n",
    "    \"\"\"\n",
    "    return 1 / (1 + np.exp(-x))\n",
    "\n",
    "def f_deriv(x):\n",
    "    \"\"\" The derivative of the sigmoid function.\n",
    "    \n",
    "    \"\"\"\n",
    "    return np.multiply(f(x), 1 - f(x)) \n",
    "\n",
    "def feedforward(x, theta):\n",
    "    \"\"\" Calculate the output of the neural network specified by theta.\n",
    "    \n",
    "    :param x: input data, feature matrix -> n x m matrix (n = number of features, m = number of samples)\n",
    "    :param theta: nn parameters, a list containing matrices for each layer example:\n",
    "    ----\n",
    "    a neural network like the example above (2 input neurons, 3 hidden and two output neurons)\n",
    "    \n",
    "    theta = [3x3 2x4]\n",
    "    \n",
    "    3x3: two input neurons plus the bias of a unit the input vector results in a 3x1 vector \n",
    "         (input is multiplied from the left side theta * input/x)\n",
    "    2x4: the output of the previous matrix mult is a 3x1 (= 3x3 * 3x1) plus the 1 for bias makes it a 4x1\n",
    "    ----\n",
    "    :param f: the activation function\n",
    "    \n",
    "    \n",
    "    :return x (modified/adjusted multiple times): output of neural network \n",
    "              (k x m -> k output neurons, m input samples result in m output samples)\n",
    "    \"\"\"\n",
    "    a_list = []\n",
    "    z_list = []\n",
    "    \n",
    "    output_last_layer = x \n",
    "    for i in range(len(theta)):\n",
    "        # use output of last layer as input for current layer\n",
    "        layer_input = output_last_layer\n",
    "        \n",
    "        # add ones to input of current layer [x1 x2]^T -> [1 x1 x2]^T\n",
    "        ones = np.ones((1, layer_input.shape[1]))\n",
    "        layer_input = np.concatenate((ones, layer_input), axis=0)\n",
    "        a_list.append(layer_input) # a_x\n",
    "        \n",
    "        # multiply theta and x to calc output of current layer\n",
    "        z = np.matmul(theta[i], layer_input)\n",
    "        z_list.insert(0, z) # z_x+1 # add in reversed order (z_last_layer, ..., z_first_layer)\n",
    "        \n",
    "        # apply activation function f\n",
    "        a = f(z)\n",
    "        \n",
    "        # set result a to ouput of last layer\n",
    "        output_last_layer = a\n",
    "    \n",
    "    # return output of neural network\n",
    "    return output_last_layer, a_list, z_list\n",
    "\n",
    "\n",
    "def compute_cost(x, y, theta, ld=0.0):\n",
    "    \"\"\" Calculates the error between the estimated values and the ground truth plus the regularization term\n",
    "\n",
    "    :param x: input data, feature matrix\n",
    "    :param y: output data, ground truth\n",
    "    :param theta: the estimated linear model's parameters (list of matrices)\n",
    "    \n",
    "    :return error\n",
    "    \"\"\"\n",
    "    n, m = x.shape\n",
    "    h, a, z = feedforward(x, theta)\n",
    "    regularization = sum([np.power(weights, 2).sum() for weights in theta])\n",
    "    return - 1/m * (y * np.log(h) + (1 - y) * np.log(1 - h)).sum() + ld / (2 * m) * regularization\n",
    "\n",
    "def compute_delta(h, y, z, theta):\n",
    "    \"\"\" Calculate the delta/error for each layer of the nn.\n",
    "    \n",
    "    :param h: output of the neural network\n",
    "    :param y: ground truth labels of the training data\n",
    "    :param z: z values of the neural network (result of feedforward, see (5))\n",
    "    :param theta: weights of the neural network\n",
    "    \n",
    "    :return delta: the delta values of the neural network (see (8))\n",
    "    \"\"\"\n",
    "    # determine delta of last layer\n",
    "    a_last_layer = h - y\n",
    "    delta = [a_last_layer]\n",
    "    \n",
    "    # determine delta for every layer (not the first one since there is no z for the first layer)\n",
    "    idx = -1\n",
    "    for z_ in z[1:]:\n",
    "        z_ = np.concatenate((np.zeros((1, z_.shape[1])), z_), axis=0) # dimensions does not match without (see note at the end of the theory section)\n",
    "        delta_ = np.multiply(np.matmul(theta[idx].transpose(), delta[0]), f_deriv(z_)) # see (9)\n",
    "        delta_ = np.delete(delta_, (0), axis=0) # remove first row because it's the error for the 1 (bias input)\n",
    "        delta.insert(0, delta_)\n",
    "        idx -= 1\n",
    "        \n",
    "    return delta\n",
    "\n",
    "def backpropagation(x, y, x_test, y_test, theta, alpha=0.5, epochs=1000, batch_size=40, ld=0.0, analyze=False, analyze_step=100):\n",
    "    \"\"\" Adjusts the given nn parameters (theta) based on inputs x and outputs y.\n",
    "    \n",
    "    :param x: input training data\n",
    "    :param y: training data labels\n",
    "    :param x_test: input test data\n",
    "    :param y_test: test data labels\n",
    "    :param theta: the weights of the neural network to train\n",
    "    :param alpha: the learning rate\n",
    "    :param epochs: number of iterations to train the network\n",
    "    :param batch_size: this is batch gradient descent therefore a batch (partial amount of the whole data) \n",
    "                       is processed in each iteration\n",
    "    :param ld: lambda for the regularization term\n",
    "    :param analyze: determines whether the cost/recall/precision should be calculated while training\n",
    "    :param analyze_step: determines how frequently cost/recall/precision should be calculated \n",
    "                         (default: every 100th iteration)\n",
    "    \n",
    "    :return theta: \n",
    "    :return (train_costs, test_costs): tupel which contains the calculated costs for train/test data\n",
    "    :return (precisions, recalls): tupel which contains the calculated precisions/recalls for the test data\n",
    "    \"\"\"\n",
    "    train_costs, test_costs = [], []\n",
    "    precisions, recalls = [], []\n",
    "    n, m = x.shape\n",
    "    idx_start = 0\n",
    "    \n",
    "    for j in range(epochs):\n",
    "        \n",
    "        # set x_iter and y_iter (batch gradient descent)      \n",
    "        idx_end = min(m, idx_start + batch_size)\n",
    "        x_iter = x[:, idx_start:idx_end]\n",
    "        y_iter = y[:, idx_start:idx_end]\n",
    "        \n",
    "        # update index\n",
    "        if idx_end == m:\n",
    "            idx_start = 0\n",
    "        else:\n",
    "            idx_start += batch_size\n",
    "        \n",
    "        # feedforward the input data\n",
    "        h, a, z = feedforward(x_iter, theta)\n",
    "        delta = compute_delta(h, y_iter, z, theta)\n",
    "        \n",
    "        for i in range(len(a)):\n",
    "            Delta = np.matmul(delta[i], a[i].transpose())\n",
    "            Theta = np.copy(theta[i])\n",
    "            Theta[:,0] = 0\n",
    "            theta[i] = theta[i] - alpha * (1 / y.shape[1] * Delta + ld * Theta) # regularization\n",
    "            \n",
    "        # analyze training\n",
    "        if j % analyze_step == 0 and analyze:\n",
    "            \n",
    "            # determine costs while training\n",
    "            train_costs.append(compute_cost(x, y, theta, ld=ld))\n",
    "            test_costs.append(compute_cost(x_test, y_test, theta, ld=ld))\n",
    "\n",
    "            # determine precision and recall while training\n",
    "            y_test_prediction, _, _ = feedforward(x_test, theta)\n",
    "\n",
    "            precision, recall = calc_precision_recall(y_test, y_test_prediction)\n",
    "            precisions.append(precision)\n",
    "            recalls.append(recall)\n",
    "        \n",
    "        print(\"Epoch: {}/{}\".format(j+1, epochs), end=\"\\r\")\n",
    "        \n",
    "    return theta, (train_costs, test_costs), (precisions, recalls)\n",
    "\n",
    "def calc_precision_recall(y, prediction):\n",
    "    \"\"\" Calculate precision and recall for the prediction. \n",
    "    \n",
    "    :param y: the ground truth labels of the training data\n",
    "    :param prediction: the predicted values for the input data that y corresponds to\n",
    "    \n",
    "    :return precision: the mean precision of each labels samples\n",
    "    :return recall: the mean recall of each labels samples\n",
    "    \"\"\"\n",
    "    \n",
    "    y_ = y.argmax(axis=0).transpose()\n",
    "    prediction_ = prediction.argmax(axis=0).transpose()\n",
    "    \n",
    "    precisions, recalls = [], []\n",
    "    labels = np.unique(y_)\n",
    "    \n",
    "    for label in labels:\n",
    "        tp = np.sum((y_==prediction_) * (y_==label))\n",
    "        fp = np.sum((y_!=prediction_) * (prediction_==label))\n",
    "        fn = np.sum((y_!=prediction_) * (y_==label))\n",
    "        \n",
    "        precision = tp / (tp + fp + 0.000000000001)\n",
    "        precisions.append(precision)\n",
    "        recall = tp / (tp + fn + 0.000000000001)\n",
    "        recalls.append(recall)\n",
    "        \n",
    "    return sum(precisions)/len(precisions), sum(recalls)/len(recalls)"
   ]
  },
  {
   "cell_type": "markdown",
   "metadata": {},
   "source": [
    "----"
   ]
  },
  {
   "cell_type": "markdown",
   "metadata": {},
   "source": [
    "## Data"
   ]
  },
  {
   "cell_type": "markdown",
   "metadata": {},
   "source": [
    "A description of the file formate can be found on http://yann.lecun.com/exdb/mnist/."
   ]
  },
  {
   "cell_type": "code",
   "execution_count": 2,
   "metadata": {},
   "outputs": [],
   "source": [
    "from urllib import request\n",
    "from shutil import copyfileobj\n",
    "import gzip\n",
    "import struct\n",
    "    \n",
    "# Download MNIST dataset\n",
    "if False: # enable if you want to download the dataset\n",
    "\n",
    "    data = [\"train-images-idx3-ubyte.gz\", \"train-labels-idx1-ubyte.gz\", \\\n",
    "            \"t10k-images-idx3-ubyte.gz\", \"t10k-labels-idx1-ubyte.gz\"]\n",
    "    data_url = \"http://yann.lecun.com/exdb/mnist/\"\n",
    "\n",
    "    for d in data:\n",
    "        file = \"data/\" + d\n",
    "        # download\n",
    "        with request.urlopen(data_url + d) as response, open(file, 'wb') as out_file:\n",
    "            copyfileobj(response, out_file)\n",
    "            \n",
    "        # uncompress\n",
    "        with gzip.open(file, 'rb') as f_in:\n",
    "            with open(file[:-2] + \"uncompressed\", 'wb') as f_out:\n",
    "                copyfileobj(f_in, f_out)"
   ]
  },
  {
   "cell_type": "code",
   "execution_count": 3,
   "metadata": {},
   "outputs": [],
   "source": [
    "# Utilities to load the MNIST dataset into numpy arrays\n",
    "def _load_data(path_to_file):\n",
    "    \"\"\" Load data from file and convert it to numpy array.\n",
    "    \"\"\"\n",
    "    \n",
    "    with open(path_to_file, 'rb') as file:\n",
    "        # convert file into numpy array\n",
    "        _, _, dims = struct.unpack('>HBB', file.read(4))\n",
    "        shape = tuple(struct.unpack('>I', file.read(4))[0] for dim in range(dims))\n",
    "        data = np.frombuffer(file.read(), dtype=np.uint8).reshape(shape)\n",
    "        \n",
    "        # reformat data into (n, m)\n",
    "        if len(data.shape) > 1:\n",
    "            m, x, y = data.shape\n",
    "            return data.reshape((m, x * y)).transpose()\n",
    "        else:\n",
    "            # format labels from 1 -> [0 1 0 0 0 0 0 0 0 0]^T\n",
    "            formatted_data = np.zeros((10, data.shape[0])) # ten labels 0 - 9\n",
    "\n",
    "            for idx, label in enumerate(data.tolist()):\n",
    "                formatted_data[label, idx] = 1\n",
    "                \n",
    "            return formatted_data\n",
    "        \n",
    "def _load_dataset(images_file, labels_file):\n",
    "    \"\"\" Load images and corresponding labels. \"\"\"\n",
    "    images = _load_data(\"data/\" + images_file)\n",
    "    labels = _load_data(\"data/\" + labels_file)\n",
    "    return images / 255.0, labels\n",
    "\n",
    "def load_train_data():\n",
    "    # load training data\n",
    "    return _load_dataset('train-images-idx3-ubyte.uncompressed', 'train-labels-idx1-ubyte.uncompressed')\n",
    "\n",
    "def load_test_data():\n",
    "    # load testing data\n",
    "    return _load_dataset('t10k-images-idx3-ubyte.uncompressed', 't10k-labels-idx1-ubyte.uncompressed')    \n",
    "    \n",
    "\n",
    "# Load the MNIST dataset\n",
    "train_images, train_labels = load_train_data()\n",
    "test_images, test_labels = load_test_data()"
   ]
  },
  {
   "cell_type": "code",
   "execution_count": 4,
   "metadata": {},
   "outputs": [
    {
     "data": {
      "image/png": "[encoded data removed]",
      "text/plain": [
       "<Figure size 1800x1800 with 10 Axes>"
      ]
     },
     "metadata": {
      "needs_background": "light"
     },
     "output_type": "display_data"
    },
    {
     "name": "stdout",
     "output_type": "stream",
     "text": [
      "[5 0 4 1 9 2 1 3 1 4]\n"
     ]
    }
   ],
   "source": [
    "# Visualize a few example images\n",
    "%matplotlib inline\n",
    "import matplotlib.pyplot as plt\n",
    "\n",
    "fig = plt.figure(figsize=(25, 25))\n",
    "rows, columns = (1, 10)\n",
    "\n",
    "for i in range(0, columns*rows):\n",
    "    fig.add_subplot(rows, columns, i + 1)\n",
    "    img = train_images[:,i].reshape((28,28))\n",
    "    plt.imshow(img, cmap=\"gray_r\")\n",
    "plt.show()\n",
    "\n",
    "print(train_labels.argmax(axis=0)[:10])"
   ]
  },
  {
   "cell_type": "markdown",
   "metadata": {},
   "source": [
    "## Let the magic happen"
   ]
  },
  {
   "cell_type": "code",
   "execution_count": 5,
   "metadata": {},
   "outputs": [
    {
     "name": "stdout",
     "output_type": "stream",
     "text": [
      "Epoch: 10000/10000\r"
     ]
    }
   ],
   "source": [
    "# Define the neural network\n",
    "np.random.seed(4)\n",
    "\n",
    "# 784+1 input neurons, 80+1 hidden neurons, 20+1 hidden neurons, 10 output neurons\n",
    "theta = [np.random.rand(80,785) - 0.5, np.random.rand(20,81) - 0.5, np.random.rand(10,21) - 0.5]\n",
    "\n",
    "# Train the neural network\n",
    "trained_theta, costs, analytics = backpropagation(train_images, train_labels, \\\n",
    "                                                  test_images, test_labels, theta, alpha=2.5, \\\n",
    "                                                  epochs=10000, batch_size=1000, analyze=True)"
   ]
  },
  {
   "cell_type": "code",
   "execution_count": 6,
   "metadata": {},
   "outputs": [
    {
     "data": {
      "image/png": "[encoded data removed]",
      "text/plain": [
       "<Figure size 1800x1800 with 10 Axes>"
      ]
     },
     "metadata": {
      "needs_background": "light"
     },
     "output_type": "display_data"
    },
    {
     "name": "stdout",
     "output_type": "stream",
     "text": [
      "gt: 7 - result: 7 - [0.003 0.003 0.016 0.013 0.001 0.001 0.    0.994 0.    0.006]\n",
      "gt: 2 - result: 2 - [0.015 0.006 0.83  0.144 0.    0.003 0.056 0.    0.007 0.   ]\n",
      "gt: 1 - result: 1 - [0.    0.961 0.007 0.005 0.    0.    0.003 0.006 0.003 0.01 ]\n",
      "gt: 0 - result: 0 - [0.982 0.    0.012 0.002 0.    0.016 0.007 0.011 0.    0.001]\n",
      "gt: 4 - result: 4 - [0.    0.001 0.013 0.    0.932 0.002 0.005 0.021 0.007 0.045]\n",
      "gt: 1 - result: 1 - [0.    0.977 0.006 0.013 0.    0.    0.    0.015 0.006 0.014]\n",
      "gt: 4 - result: 4 - [0.    0.    0.    0.007 0.897 0.135 0.004 0.012 0.024 0.005]\n",
      "gt: 9 - result: 9 - [0.    0.008 0.    0.009 0.136 0.003 0.    0.003 0.042 0.841]\n",
      "gt: 5 - result: 6 - [0.017 0.    0.152 0.    0.042 0.168 0.611 0.    0.023 0.   ]\n",
      "gt: 9 - result: 9 - [0.    0.002 0.    0.001 0.073 0.001 0.    0.031 0.016 0.861]\n"
     ]
    }
   ],
   "source": [
    "# Test trained parameters and display a few examples\n",
    "h, a, z = feedforward(test_images, trained_theta) # estimated values\n",
    "\n",
    "fig = plt.figure(figsize=(25, 25))\n",
    "columns = 10\n",
    "rows = 1\n",
    "for i in range(0, columns*rows):\n",
    "    fig.add_subplot(rows, columns, i + 1)\n",
    "    img = test_images[:,i].reshape((28,28))\n",
    "    plt.imshow(img, cmap=\"gray_r\")\n",
    "plt.show()\n",
    "\n",
    "for i in range(10):\n",
    "    print(\"gt: {} - result: {}\".format(test_labels[:,i].argmax(axis=0), h[:,i].argmax(axis=0)), end=\" - \")\n",
    "    print(np.round(h[:,i], 3))"
   ]
  },
  {
   "cell_type": "code",
   "execution_count": 7,
   "metadata": {},
   "outputs": [
    {
     "data": {
      "image/png": "[encoded data removed]",
      "text/plain": [
       "<Figure size 432x288 with 1 Axes>"
      ]
     },
     "metadata": {
      "needs_background": "light"
     },
     "output_type": "display_data"
    }
   ],
   "source": [
    "# Display the costs calculated while training the network (isn't this too similar? TODO)\n",
    "num = len(costs[1])\n",
    "plt.plot(range(num), costs[0], \"-r\")\n",
    "plt.plot(range(num), costs[1], \"-b\")\n",
    "\n",
    "plt.xlabel(\"Iterations (in 100s)\")\n",
    "plt.ylabel(\"Cost J\")\n",
    "plt.legend([\"Train\",\"Test\"])\n",
    "\n",
    "plt.show()"
   ]
  },
  {
   "cell_type": "code",
   "execution_count": 8,
   "metadata": {},
   "outputs": [
    {
     "data": {
      "image/png": "[encoded data removed]",
      "text/plain": [
       "<Figure size 432x288 with 1 Axes>"
      ]
     },
     "metadata": {
      "needs_background": "light"
     },
     "output_type": "display_data"
    },
    {
     "name": "stdout",
     "output_type": "stream",
     "text": [
      "Final precision: 0.9240277180821719\n",
      "Final recall: 0.9237920986856982\n"
     ]
    }
   ],
   "source": [
    "# Plot precision and recall\n",
    "num = len(analytics[0])\n",
    "plt.plot(range(num), [a * 100 for a in analytics[0]], \"-r\")\n",
    "plt.plot(range(num), [a * 100 for a in analytics[1]], \"-b\")\n",
    "\n",
    "plt.xlabel(\"Iterations\")\n",
    "plt.ylabel(\"%\")\n",
    "plt.legend([\"Precision\",\"Recall\"])\n",
    "\n",
    "plt.show()\n",
    "\n",
    "print(\"Final precision: {}\".format(analytics[0][-1]))\n",
    "print(\"Final recall: {}\".format(analytics[1][-1]))"
   ]
  },
  {
   "cell_type": "code",
   "execution_count": null,
   "metadata": {},
   "outputs": [],
   "source": []
  },
  {
   "cell_type": "code",
   "execution_count": null,
   "metadata": {},
   "outputs": [],
   "source": []
  },
  {
   "cell_type": "markdown",
   "metadata": {},
   "source": [
    "----"
   ]
  },
  {
   "cell_type": "markdown",
   "metadata": {},
   "source": [
    "## Testing\n",
    "\n",
    "The following code sections can be ignored."
   ]
  },
  {
   "cell_type": "code",
   "execution_count": 9,
   "metadata": {},
   "outputs": [
    {
     "name": "stderr",
     "output_type": "stream",
     "text": [
      "UsageError: %%script is a cell magic, but the cell body is empty.\n"
     ]
    }
   ],
   "source": [
    "%%script false "
   ]
  },
  {
   "cell_type": "code",
   "execution_count": null,
   "metadata": {},
   "outputs": [],
   "source": [
    "# Tests cost function\n",
    "weights = np.array([1])\n",
    "sum([np.power(w, 2).sum() for w in weights])"
   ]
  },
  {
   "cell_type": "code",
   "execution_count": null,
   "metadata": {},
   "outputs": [],
   "source": [
    "# Tests compute_delta\n",
    "x = np.array([[2, 3], [3, 4]]).transpose()\n",
    "y = np.array([[1, 0], [0, 1]]).transpose()\n",
    "\n",
    "theta = [np.ones((3,3)), np.ones((2,4))]\n",
    "\n",
    "h, a, z = feedforward(x, theta) # estimated values\n",
    "\n",
    "delta = compute_delta(h, y, z, theta)\n",
    "dd = [print(d_) for d_ in delta]"
   ]
  },
  {
   "cell_type": "code",
   "execution_count": null,
   "metadata": {},
   "outputs": [],
   "source": [
    "# Tests gradient descent\n",
    "import matplotlib.pyplot as plt\n",
    "\n",
    "np.random.seed(4)\n",
    "x = np.array([[1, 0], [0, 1], [0, 0], [1, 1]]).transpose()\n",
    "y = np.array([[1], [1], [0], [0]]).transpose()\n",
    "\n",
    "theta = [np.random.rand(2,3) - 0.5, np.random.rand(1,3) - 0.5]\n",
    "\n",
    "trained_theta, costs, analytics = backpropagation(x, y, x, y, theta, alpha=2.5, epochs=500, batch_size=4, analyze=True, analyze_step=1)\n",
    "\n",
    "outputs, _, _ = feedforward(x, trained_theta)\n",
    "print(outputs, end=\"\\n\\n\")\n",
    "\n",
    "plt.plot(range(len(costs[0])), costs[0], \"-r\")\n",
    "plt.show()"
   ]
  },
  {
   "cell_type": "code",
   "execution_count": null,
   "metadata": {},
   "outputs": [],
   "source": [
    "# testing recall/precision calculation\n",
    "l = np.array([[1, 0, 0], [1, 0, 0]]).transpose()\n",
    "estimated_l = np.array([[1, 0, 0], [1, 0, 0]]).transpose()\n",
    "\n",
    "print(l)\n",
    "print(estimated_l)\n",
    "\n",
    "precision, recall = calc_precision_recall(l, estimated_l)\n",
    "   \n",
    "print(\"Mean Precision: {}\".format(precision))\n",
    "print(\"Mean Recall: {}\".format(recall))"
   ]
  },
  {
   "cell_type": "markdown",
   "metadata": {},
   "source": [
    "Sources:\n",
    "\n",
    "[1] Modified version of: BruceBlaus[CC By 3.0 (https://creativecommons.org/licenses/by/3.0)]\n",
    "\n",
    "[2] Modified version of: https://dimensionless.in/artificial-intelligence-accelerate-the-power-with-neural-networks/]"
   ]
  }
 ],
 "metadata": {
  "kernelspec": {
   "display_name": "Python 3",
   "language": "python",
   "name": "python3"
  },
  "language_info": {
   "codemirror_mode": {
    "name": "ipython",
    "version": 3
   },
   "file_extension": ".py",
   "mimetype": "text/x-python",
   "name": "python",
   "nbconvert_exporter": "python",
   "pygments_lexer": "ipython3",
   "version": "3.7.3"
  }
 },
 "nbformat": 4,
 "nbformat_minor": 2
}
