{
 "cells": [
  {
   "cell_type": "code",
   "execution_count": 1,
   "metadata": {},
   "outputs": [],
   "source": [
    "%matplotlib inline"
   ]
  },
  {
   "cell_type": "code",
   "execution_count": 2,
   "metadata": {},
   "outputs": [],
   "source": [
    "# Don't forget to create the training data with the create_training_data notebook."
   ]
  },
  {
   "cell_type": "code",
   "execution_count": 3,
   "metadata": {},
   "outputs": [
    {
     "name": "stdout",
     "output_type": "stream",
     "text": [
      "(50, 2)\n"
     ]
    }
   ],
   "source": [
    "# Load data\n",
    "import pandas as pd\n",
    "f_data = pd.read_csv(\"f.data\", header=None)\n",
    "\n",
    "# Print shape\n",
    "print(f_data.shape)"
   ]
  },
  {
   "cell_type": "code",
   "execution_count": 4,
   "metadata": {},
   "outputs": [
    {
     "data": {
      "text/html": [
       "<div>\n",
       "<style scoped>\n",
       "    .dataframe tbody tr th:only-of-type {\n",
       "        vertical-align: middle;\n",
       "    }\n",
       "\n",
       "    .dataframe tbody tr th {\n",
       "        vertical-align: top;\n",
       "    }\n",
       "\n",
       "    .dataframe thead th {\n",
       "        text-align: right;\n",
       "    }\n",
       "</style>\n",
       "<table border=\"1\" class=\"dataframe\">\n",
       "  <thead>\n",
       "    <tr style=\"text-align: right;\">\n",
       "      <th></th>\n",
       "      <th>0</th>\n",
       "      <th>1</th>\n",
       "    </tr>\n",
       "  </thead>\n",
       "  <tbody>\n",
       "    <tr>\n",
       "      <td>0</td>\n",
       "      <td>362.423468</td>\n",
       "      <td>9.762701</td>\n",
       "    </tr>\n",
       "    <tr>\n",
       "      <td>1</td>\n",
       "      <td>1144.390022</td>\n",
       "      <td>43.037873</td>\n",
       "    </tr>\n",
       "    <tr>\n",
       "      <td>2</td>\n",
       "      <td>615.987868</td>\n",
       "      <td>20.552675</td>\n",
       "    </tr>\n",
       "    <tr>\n",
       "      <td>3</td>\n",
       "      <td>343.950960</td>\n",
       "      <td>8.976637</td>\n",
       "    </tr>\n",
       "    <tr>\n",
       "      <td>4</td>\n",
       "      <td>-225.822443</td>\n",
       "      <td>-15.269040</td>\n",
       "    </tr>\n",
       "    <tr>\n",
       "      <td>5</td>\n",
       "      <td>818.702331</td>\n",
       "      <td>29.178823</td>\n",
       "    </tr>\n",
       "    <tr>\n",
       "      <td>6</td>\n",
       "      <td>-160.340107</td>\n",
       "      <td>-12.482558</td>\n",
       "    </tr>\n",
       "    <tr>\n",
       "      <td>7</td>\n",
       "      <td>1974.333104</td>\n",
       "      <td>78.354600</td>\n",
       "    </tr>\n",
       "    <tr>\n",
       "      <td>8</td>\n",
       "      <td>2312.214974</td>\n",
       "      <td>92.732552</td>\n",
       "    </tr>\n",
       "    <tr>\n",
       "      <td>9</td>\n",
       "      <td>-414.824862</td>\n",
       "      <td>-23.311696</td>\n",
       "    </tr>\n",
       "  </tbody>\n",
       "</table>\n",
       "</div>"
      ],
      "text/plain": [
       "             0          1\n",
       "0   362.423468   9.762701\n",
       "1  1144.390022  43.037873\n",
       "2   615.987868  20.552675\n",
       "3   343.950960   8.976637\n",
       "4  -225.822443 -15.269040\n",
       "5   818.702331  29.178823\n",
       "6  -160.340107 -12.482558\n",
       "7  1974.333104  78.354600\n",
       "8  2312.214974  92.732552\n",
       "9  -414.824862 -23.311696"
      ]
     },
     "execution_count": 4,
     "metadata": {},
     "output_type": "execute_result"
    }
   ],
   "source": [
    "# Display a few examples of the data\n",
    "f_data.head(10)"
   ]
  },
  {
   "cell_type": "code",
   "execution_count": 5,
   "metadata": {},
   "outputs": [
    {
     "data": {
      "text/html": [
       "<div>\n",
       "<style scoped>\n",
       "    .dataframe tbody tr th:only-of-type {\n",
       "        vertical-align: middle;\n",
       "    }\n",
       "\n",
       "    .dataframe tbody tr th {\n",
       "        vertical-align: top;\n",
       "    }\n",
       "\n",
       "    .dataframe thead th {\n",
       "        text-align: right;\n",
       "    }\n",
       "</style>\n",
       "<table border=\"1\" class=\"dataframe\">\n",
       "  <thead>\n",
       "    <tr style=\"text-align: right;\">\n",
       "      <th></th>\n",
       "      <th>1</th>\n",
       "      <th>0</th>\n",
       "    </tr>\n",
       "  </thead>\n",
       "  <tbody>\n",
       "    <tr>\n",
       "      <td>0</td>\n",
       "      <td>9.762701</td>\n",
       "      <td>1</td>\n",
       "    </tr>\n",
       "    <tr>\n",
       "      <td>1</td>\n",
       "      <td>43.037873</td>\n",
       "      <td>1</td>\n",
       "    </tr>\n",
       "    <tr>\n",
       "      <td>2</td>\n",
       "      <td>20.552675</td>\n",
       "      <td>1</td>\n",
       "    </tr>\n",
       "    <tr>\n",
       "      <td>3</td>\n",
       "      <td>8.976637</td>\n",
       "      <td>1</td>\n",
       "    </tr>\n",
       "    <tr>\n",
       "      <td>4</td>\n",
       "      <td>-15.269040</td>\n",
       "      <td>1</td>\n",
       "    </tr>\n",
       "    <tr>\n",
       "      <td>5</td>\n",
       "      <td>29.178823</td>\n",
       "      <td>1</td>\n",
       "    </tr>\n",
       "    <tr>\n",
       "      <td>6</td>\n",
       "      <td>-12.482558</td>\n",
       "      <td>1</td>\n",
       "    </tr>\n",
       "    <tr>\n",
       "      <td>7</td>\n",
       "      <td>78.354600</td>\n",
       "      <td>1</td>\n",
       "    </tr>\n",
       "    <tr>\n",
       "      <td>8</td>\n",
       "      <td>92.732552</td>\n",
       "      <td>1</td>\n",
       "    </tr>\n",
       "    <tr>\n",
       "      <td>9</td>\n",
       "      <td>-23.311696</td>\n",
       "      <td>1</td>\n",
       "    </tr>\n",
       "  </tbody>\n",
       "</table>\n",
       "</div>"
      ],
      "text/plain": [
       "           1  0\n",
       "0   9.762701  1\n",
       "1  43.037873  1\n",
       "2  20.552675  1\n",
       "3   8.976637  1\n",
       "4 -15.269040  1\n",
       "5  29.178823  1\n",
       "6 -12.482558  1\n",
       "7  78.354600  1\n",
       "8  92.732552  1\n",
       "9 -23.311696  1"
      ]
     },
     "execution_count": 5,
     "metadata": {},
     "output_type": "execute_result"
    }
   ],
   "source": [
    "# Split data into features and labels because the next step shouldn't be applied to the labels\n",
    "x_f = f_data.iloc[:, 1:] # contains features\n",
    "x_f[0] = 1\n",
    "y_f = f_data.iloc[:, 0] # contains labels\n",
    "\n",
    "x_f.head(10)"
   ]
  },
  {
   "cell_type": "code",
   "execution_count": 6,
   "metadata": {},
   "outputs": [
    {
     "name": "stdout",
     "output_type": "stream",
     "text": [
      "(35, 2)\n",
      "(35, 1)\n",
      "(15, 2)\n",
      "(15, 1)\n"
     ]
    }
   ],
   "source": [
    "# split data into training and test data\n",
    "import numpy as np\n",
    "from sklearn.model_selection import train_test_split\n",
    "x_f_train, x_f_test, y_f_train, y_f_test = train_test_split(x_f, y_f, test_size=0.3, random_state=4)\n",
    "y_f_train = np.expand_dims(y_f_train.to_numpy(), axis=1)\n",
    "y_f_test = np.expand_dims(y_f_test.to_numpy(), axis=1)\n",
    "x_f_train = x_f_train.to_numpy()\n",
    "x_f_test = x_f_test.to_numpy()\n",
    "\n",
    "print(x_f_train.shape)\n",
    "print(y_f_train.shape)\n",
    "print(x_f_test.shape)\n",
    "print(y_f_test.shape)"
   ]
  },
  {
   "cell_type": "code",
   "execution_count": 7,
   "metadata": {},
   "outputs": [],
   "source": [
    "# linear regression implementation\n",
    "def compute_cost(x, y, theta):\n",
    "    m = y.shape[0]\n",
    "    return 1/(2 * m) * sum(np.power(np.matmul(x, theta) - y, 2))\n",
    "\n",
    "def gradient_descent(x, y, theta=None, alpha=0.01, num_iters=100):\n",
    "    m, n = x.shape\n",
    "    if theta is None:\n",
    "        theta = np.random.rand(n, 1) / 10 - 0.05\n",
    "\n",
    "    costs = []\n",
    "    for i in range(num_iters):\n",
    "        theta -= alpha * (1 / m) * np.matmul(np.transpose(x), (np.matmul(x, theta) - y))\n",
    "        costs.append(compute_cost(x, y, theta))\n",
    "\n",
    "    return theta, costs"
   ]
  },
  {
   "cell_type": "code",
   "execution_count": 8,
   "metadata": {},
   "outputs": [],
   "source": [
    "# train model\n",
    "theta, costs = gradient_descent(x_f_train, y_f_train, alpha=0.0005, num_iters=20000)"
   ]
  },
  {
   "cell_type": "code",
   "execution_count": 9,
   "metadata": {},
   "outputs": [],
   "source": [
    "# use model to predict classes of input data\n",
    "def predict(x, theta):\n",
    "    return np.matmul(x, theta)"
   ]
  },
  {
   "cell_type": "code",
   "execution_count": 10,
   "metadata": {},
   "outputs": [],
   "source": [
    "# calculate prediction of test data\n",
    "prediction = predict(x_f_test, theta)"
   ]
  },
  {
   "cell_type": "code",
   "execution_count": 11,
   "metadata": {},
   "outputs": [
    {
     "name": "stdout",
     "output_type": "stream",
     "text": [
      "[-160, -734, 269, -226, 453, 1422, 1974, 791, -163, 1440, -48, 236, 455, -1808, -2122]\n",
      "[-160, -734, 269, -226, 453, 1422, 1974, 791, -163, 1440, -48, 236, 455, -1807, -2122]\n"
     ]
    }
   ],
   "source": [
    "# print the results\n",
    "print([round(item) for sublist in prediction.tolist() for item in sublist][:40])\n",
    "print([round(item) for sublist in y_f_test.tolist() for item in sublist][:40])"
   ]
  },
  {
   "cell_type": "code",
   "execution_count": 26,
   "metadata": {},
   "outputs": [
    {
     "data": {
      "image/png": "[encoded data removed]",
      "text/plain": [
       "<Figure size 1080x360 with 1 Axes>"
      ]
     },
     "metadata": {
      "needs_background": "light"
     },
     "output_type": "display_data"
    }
   ],
   "source": [
    "# plot training/test data and compare them with trained model\n",
    "_x_f = np.random.random_sample((50,2)) * 200 - 100\n",
    "_x_f[:,-1] = 1\n",
    "_y_f = predict(_x_f, theta)\n",
    "\n",
    "# plot \n",
    "import matplotlib.pyplot as plt\n",
    "plt.figure(1, figsize=(15, 5))\n",
    "plt.xlabel(\"x\")\n",
    "plt.ylabel(\"y\")\n",
    "plt.plot(_x_f[:,0], _y_f, \"rx\")\n",
    "plt.plot(_x_f[:,0], _y_f, \"b-\")\n",
    "plt.plot(x_f[1], y_f, \"go\")\n",
    "plt.legend([\"new data\", \"new data\", \"training/test data\"])\n",
    "plt.show()"
   ]
  },
  {
   "cell_type": "code",
   "execution_count": null,
   "metadata": {},
   "outputs": [],
   "source": []
  },
  {
   "cell_type": "code",
   "execution_count": null,
   "metadata": {},
   "outputs": [],
   "source": []
  }
 ],
 "metadata": {
  "kernelspec": {
   "display_name": "Python 3",
   "language": "python",
   "name": "python3"
  },
  "language_info": {
   "codemirror_mode": {
    "name": "ipython",
    "version": 3
   },
   "file_extension": ".py",
   "mimetype": "text/x-python",
   "name": "python",
   "nbconvert_exporter": "python",
   "pygments_lexer": "ipython3",
   "version": "3.7.3"
  }
 },
 "nbformat": 4,
 "nbformat_minor": 2
}
