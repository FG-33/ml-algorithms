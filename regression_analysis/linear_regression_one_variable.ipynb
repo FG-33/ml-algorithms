{
 "cells": [
  {
   "cell_type": "markdown",
   "metadata": {},
   "source": [
    "# Linear Regression with one variable\n",
    "-----\n",
    "\n",
    "## Theory\n",
    "\n",
    "In this version of regression analysis there's only a single independent ($x$) and a single dependent ($y$) variable. It is assumed that their relationship can be modeled by: \n",
    "\n",
    "$$\\begin{eqnarray}\n",
    "y = xm+b \\\\\n",
    "\\tag{1}\n",
    "\\end{eqnarray}$$\n",
    "\n",
    "The goal of the analysis is to determine the two unknown parameters $m$ and $b$. The resulting equation represents the estimated relationship between $x$ and $y$. To determine the parameters two pieces are necessary. First is a way to rate the resulting model to determine whether the model represents the given data or not. Second is a procedure to actually calculate the parameters based on the given data. Therefore a *cost function* will be defined to rate the model. As for determining the parameters the *gradient descent* algorithm will be used.\n",
    "\n",
    "#### Cost Function\n",
    "\n",
    "The following equation can be used to evaluate how good the model represents the given data: \n",
    "\n",
    "$$\\begin{eqnarray}\n",
    "J(m',b') = \\frac{1}{2N} \\sum_{i=1}^N(y_i' - y_i)^2 &&& \\text{with} &&& y_i' = x_im'+b'\n",
    "\\tag{2}\n",
    "\\end{eqnarray}$$\n",
    "\n",
    "The *error* of the model is determined by calculating the estimated $y$ which is represented by $y'$ (this uses the calculated $m'$ and $b'$) and then substracting the actual value $y$ from it. This results in the *error* of a single piece of data. The error can vary in between the data so the mean over the given $N$ data pieces is calculated. This function $J$ is called the *cost function*.\n",
    "\n",
    "#### Gradient Descent\n",
    "\n",
    "Before introducing the algorithm, a different representation of the model given in (1) will be chosen, a vectorized representation:\n",
    "\n",
    "$$\\begin{eqnarray}\n",
    "y = (\\vec{x})^T \\theta &&&\n",
    "\\text{with} &&&\n",
    "\\vec{x} = \\begin{bmatrix} x \\\\ 1 \\end{bmatrix} &&&\n",
    "\\text{and} &&&\n",
    "\\theta =  \\begin{bmatrix} m \\\\ b \\end{bmatrix} &&&\n",
    "\\tag{3}\n",
    "\\end{eqnarray}$$\n",
    "\n",
    "This will simplify the representation of the equations in the algorithm ($J(m',b')$ will become $J(\\theta)$).\n",
    "\n",
    "The purpose of this algorithm is to iteratively find the minimum of a function by adjusting the parameters ($\\theta$) depending on their partial derivative:\n",
    "\n",
    "$$\\begin{eqnarray}\n",
    "\\theta^{t+1} = \\theta^t - \\alpha \\frac{\\partial}{\\partial \\theta_j} J(\\theta^t) &&& \\text{for every} & j\n",
    "\\tag{4}\n",
    "\\end{eqnarray}$$\n",
    "\n",
    "$t$ denotes the result parameters after $t$ iterations. $\\theta^0$ is a random initialization at the start of the algorithm while $\\theta^1$ contains the adjusted values after the first iteration. $j$ denotes the index of the parameter in theta ( E.g. $\\theta_0$ is $m$).\n",
    "\n",
    "The partial derivative looks intimidating but because of the simplistic nature of linear regression with one variable the derivative for each $\\theta_j$ can be calculated beforehand. The result looks a lot simpler:\n",
    "\n",
    "$$\\begin{eqnarray}\n",
    "\\frac{\\partial J(\\theta)}{\\partial \\theta_0} = \\frac{1}{N} \\sum_{i=1}^N (y_i' - y_i) x_i\n",
    "\\tag{5}\n",
    "\\end{eqnarray}$$\n",
    "\n",
    "$$\\begin{eqnarray}\n",
    "\\frac{\\partial J(\\theta)}{\\partial \\theta_1} = \\frac{1}{N} \\sum_{i=1}^N (y_i' - y_i) \n",
    "\\tag{6}\n",
    "\\end{eqnarray}$$\n",
    "\n",
    "Basically the partial derivative is just the cost $J$ multiplied by the corresponding input value ($\\theta_0$ corresponds to $x$ and $\\theta_1$ to $1$). \n",
    "\n",
    "(4), (5) and (6) combined can be written in a vectorized form:\n",
    "\n",
    "$$\\begin{eqnarray}\n",
    "\\theta^{t+1} = \\theta^t - \\frac{\\alpha}{N} X^T (X \\theta - \\vec{y}) \n",
    "\\tag{7}\n",
    "\\end{eqnarray}$$\n",
    "\n",
    "The vector $y$ contains the values for every of the $N$ data pieces. $\\theta$ consists of the estimated parameters. $X$ is now a matrix. The row $j$ is actually the transposed $\\vec{x}$ (see (3)) of the $j$-th data piece. Each row is a distinct data piece. E.g. for 4 data pieces $X$ would look like this:\n",
    "\n",
    "$$\\begin{eqnarray}\n",
    "X =  \\begin{bmatrix} x_0 & 1 \\\\ x_1 & 1 \\\\ x_2 & 1 \\\\ x_3 & 1 \\end{bmatrix}\n",
    "\\end{eqnarray}$$\n",
    "\n",
    "The equation in (7) should be executed until $\\theta$ converges.\n",
    "\n",
    "-----"
   ]
  },
  {
   "cell_type": "markdown",
   "metadata": {},
   "source": [
    "## The Implementation"
   ]
  },
  {
   "cell_type": "code",
   "execution_count": 1,
   "metadata": {},
   "outputs": [],
   "source": [
    "import numpy as np\n",
    "\n",
    "\n",
    "def compute_costs(x, y, theta):\n",
    "    \"\"\" Calculates the squared error between ground truth y and predicted output y'\n",
    "\n",
    "    :param x: input data samples x feature matrix\n",
    "    :param y: output data or ground truth\n",
    "    :param theta: the estimated linear regression parameters\n",
    "    :return predicted_result: squared error\n",
    "    \"\"\"\n",
    "    N = y.shape[0] # number of samples\n",
    "    return 1/(2 * N) * sum(np.power(np.matmul(x, theta) - y, 2)) # vectorized form of (2)\n",
    "\n",
    "def gradient_descent(x, y, theta=None, alpha=0.01, num_iters=100):\n",
    "    \"\"\" Performs gradient descent to determine the best possible model based on given input data (x)\n",
    "        output data (y)\n",
    "\n",
    "    :param x: input data samples x feature matrix\n",
    "    :param y: output data or ground truth\n",
    "    :param theta: initial linear regression parameters\n",
    "    :param alpha: learning rate\n",
    "    :param num_iters: number of iterations to run gradient descent\n",
    "    :return theta: learned linear regression parameters (parameters of the linear model)\n",
    "    :return costs: list containing the calculated cost values for each step of gradient descent\n",
    "    \"\"\"\n",
    "    m, n = x.shape\n",
    "    if theta is None:\n",
    "        theta = np.random.rand(n, 1)\n",
    "\n",
    "    costs = []\n",
    "    for i in range(num_iters):\n",
    "        theta -= alpha * (1 / m) * np.matmul(np.transpose(x), (np.matmul(x, theta) - y)) # see (7)\n",
    "        costs.append(compute_costs(x, y, theta))\n",
    "\n",
    "    return theta, costs\n",
    "\n",
    "def predict(x, theta):\n",
    "    \"\"\" Predicts outputs based on input samples/features given theta\n",
    "\n",
    "    :param x: input data samples x feature matrix\n",
    "    :param theta: linear regression parameters learned\n",
    "    :return predicted_result: predicted output for given input data\n",
    "    \"\"\"\n",
    "    return np.matmul(x, theta)"
   ]
  },
  {
   "cell_type": "markdown",
   "metadata": {},
   "source": [
    "## The Data"
   ]
  },
  {
   "cell_type": "code",
   "execution_count": 2,
   "metadata": {},
   "outputs": [
    {
     "data": {
      "image/png": "[encoded data removed]",
      "text/plain": [
       "<Figure size 1080x360 with 1 Axes>"
      ]
     },
     "metadata": {
      "needs_background": "light"
     },
     "output_type": "display_data"
    }
   ],
   "source": [
    "def generate_data(x):\n",
    "    noise = np.random.random_sample((x.shape[0],1)) * 15 - 7.5\n",
    "    return 2.5 * x + 13 + noise # basically y = mx + b with some noise added\n",
    "\n",
    "# Generate data\n",
    "np.random.seed(4)\n",
    "x = np.random.random_sample((40,1)) * 15 - 7.5\n",
    "y = generate_data(x)\n",
    "\n",
    "# Add ones for gradient descent algorithm\n",
    "x = np.concatenate((x, np.ones((x.shape[0], 1))), axis=1)\n",
    "\n",
    "# Plot data points\n",
    "%matplotlib inline\n",
    "import matplotlib.pyplot as plt\n",
    "\n",
    "plt.figure(1, figsize=(15, 5))\n",
    "plt.xlabel(\"x\")\n",
    "plt.ylabel(\"y\")\n",
    "plt.plot(x[:,0], y, \"bo\")\n",
    "plt.show()"
   ]
  },
  {
   "cell_type": "markdown",
   "metadata": {},
   "source": [
    "## Regression Analysis"
   ]
  },
  {
   "cell_type": "code",
   "execution_count": 3,
   "metadata": {},
   "outputs": [
    {
     "name": "stdout",
     "output_type": "stream",
     "text": [
      "[[ 2.49405108]\n",
      " [13.37652575]]\n"
     ]
    },
    {
     "data": {
      "image/png": "[encoded data removed]",
      "text/plain": [
       "<Figure size 1080x360 with 1 Axes>"
      ]
     },
     "metadata": {
      "needs_background": "light"
     },
     "output_type": "display_data"
    }
   ],
   "source": [
    "# Execute gradient descent\n",
    "theta, costs = gradient_descent(x, y, alpha=0.05, num_iters=1000)\n",
    "print(theta)\n",
    "\n",
    "# Plot the data and the function/line resulting from the estimated parameters\n",
    "plt.figure(1, figsize=(15, 5))\n",
    "plt.xlabel(\"x\")\n",
    "plt.ylabel(\"y\")\n",
    "plt.plot(x[:,0], y, \"bo\") # data\n",
    "\n",
    "# create data to present the estimated model\n",
    "x_ = np.arange(-10,10).reshape(-1, 1)\n",
    "x_ = np.concatenate((x_, np.ones((x_.shape[0], 1))), axis=1)\n",
    "\n",
    "plt.plot(x_[:,0], predict(x_, theta), \"r-\")\n",
    "plt.show()"
   ]
  },
  {
   "cell_type": "markdown",
   "metadata": {},
   "source": [
    "The values for $m = 2.494$ and $b = 13.377$ are pretty close to the original function's parameters. Overall, it looks like the model fits the data points."
   ]
  }
 ],
 "metadata": {
  "kernelspec": {
   "display_name": "Python 3",
   "language": "python",
   "name": "python3"
  },
  "language_info": {
   "codemirror_mode": {
    "name": "ipython",
    "version": 3
   },
   "file_extension": ".py",
   "mimetype": "text/x-python",
   "name": "python",
   "nbconvert_exporter": "python",
   "pygments_lexer": "ipython3",
   "version": "3.7.3"
  }
 },
 "nbformat": 4,
 "nbformat_minor": 2
}
