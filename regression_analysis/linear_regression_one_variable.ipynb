{
 "cells": [
  {
   "cell_type": "markdown",
   "metadata": {},
   "source": [
    "# Linear Regression with one variable\n",
    "-----\n",
    "\n",
    "NOTE: Please read this notebook [here](https://nbviewer.jupyter.org/github/FG-33/ml-algorithms/blob/master/regression_analysis/linear_regression_one_variable.ipynb?flush_cache=true). It is not rendered properly on Github.\n",
    "\n",
    "This notebook was created using the concepts and ideas conveyed in Stanford's lecture/course *Machine Learning* by Andrew Ng.\n",
    "\n",
    "## Theory\n",
    "\n",
    "In this version of regression analysis there's only a single independent ($x$) and a single dependent ($y$) variable. $x$ and $y$ are commonly called features/input data and labels/output data. The relationship between the two will be represented by the linear model $y = b + mx$. To lay ground for future work the vectorized form of the linear model is chosen: \n",
    "\n",
    "$$\\begin{eqnarray}\n",
    "y = x^T\\theta &&&& \\text{with} && x = \\begin{bmatrix} 1 \\\\ x_1 \\end{bmatrix} && \\text{and} && \\theta = \\begin{bmatrix} \\theta_0 \\\\ \\theta_1 \\end{bmatrix}\n",
    "\\tag{1}\n",
    "\\end{eqnarray}$$\n",
    "\n",
    "The goal of the analysis is to determine the unknown $\\theta$. The analysis consists of three parts. The first part is the necessary data. It consists of $n$ pairs of $x$ and $y$ commonly called training data. The second part is a procedure to determine whether the current model/parameters is/are a good fit with the given data . The third and last part is a procedure to actually calculate the unknown parameters based on the given data. For the second part a *cost function* is formulated and for the third part *gradient descent* is used.\n",
    "\n",
    "#### Cost Function\n",
    "\n",
    "The following equation represents the viability of the current parameters. The higher the *error* the worse it fits the training data: \n",
    "\n",
    "$$\\begin{eqnarray}\n",
    "J(\\theta) = \\frac{1}{2m} \\sum_{k=1}^m(h_{\\theta}(x^{(k)}) - y^{(k)})^2 &&& \\text{with} &&& h_{\\theta}(x) = x^T\\theta\n",
    "\\tag{2}\n",
    "\\end{eqnarray}$$\n",
    "\n",
    "The *error* $J(\\theta)$ of the model is determined by calculating the estimated value which is represented by $h$ and then substracting the actual value, or ground truth, $y$ from it. This results in the *error* of a single piece of data. The error can vary in between the various $x$,$y$ pairs so the mean over the given $m$ data pairs is calculated.\n",
    "\n",
    "#### Gradient Descent\n",
    "\n",
    "The purpose of this algorithm is to find the minimum of a function by iteratively adjusting its parameters ($\\theta$). In this case the function to minimize will be the *cost function*. Therefore the goal of the *gradient descent* algorithm is to minimize the error of the model and thus finding parameters that are a good representation of the given data pairs. The parameters $\\theta$ are adjusted based on their partial derivatives:\n",
    "\n",
    "$$\\begin{eqnarray}\n",
    "\\theta_j^{t+1} = \\theta_j^t - \\alpha \\frac{\\partial}{\\partial \\theta_j} J(\\theta^t)\n",
    "\\tag{3}\n",
    "\\end{eqnarray}$$\n",
    "\n",
    "$t$ denotes the resulting parameters after $t$ iterations. $\\theta^0$ is a random initialization at the start of the algorithm while $\\theta^1$ contains the adjusted values after the first iteration. $j$ denotes the index of the parameter in theta. $\\alpha$ is called the *learning rate*. Its purpose is to control the rate at which the parameters are adjusted in each iteration. The smaller the value the more iterations are necessary because the algorithm is used until $\\theta$ converges. If $\\alpha$'s too big it's also possible that $\\theta$ will not converge at all.\n",
    "\n",
    "At first the partial derivative looks intimidating, but because of the simplistic nature of linear regression with one variable the derivative for each $\\theta_j$ can be easily calculated beforehand. The result looks a lot simpler:\n",
    "\n",
    "$$\\begin{eqnarray}\n",
    "\\frac{\\partial J(\\theta)}{\\partial \\theta_0} = \\frac{1}{m} \\sum_{k=1}^m (h_{\\theta}(x^{(k)}) - y^{(k)}) \n",
    "\\tag{4}\n",
    "\\end{eqnarray}$$\n",
    "\n",
    "$$\\begin{eqnarray}\n",
    "\\frac{\\partial J(\\theta)}{\\partial \\theta_1} = \\frac{1}{m} \\sum_{k=1}^m (h_{\\theta}(x^{(k)}) - y^{(k)}) x_1^{(k)}\n",
    "\\tag{5}\n",
    "\\end{eqnarray}$$\n",
    "\n",
    "Basically, the partial derivative is the cost $J$ multiplied by the corresponding input value ($\\theta_1$ corresponds to $x_1$ and $\\theta_0$ to $1$). \n",
    "\n",
    "(3), (4) and (5) combined can be written in a vectorized form:\n",
    "\n",
    "$$\\begin{eqnarray}\n",
    "\\theta^{t+1} = \\theta^t - \\frac{\\alpha}{m} X^T (X \\theta - \\vec{y}) \n",
    "\\tag{6}\n",
    "\\end{eqnarray}$$\n",
    "\n",
    "The vector $\\vec{y}$ contains the values for every of the $m$ data pieces. $\\theta$ consists of the estimated parameters. $X$ is now a matrix. Row $j$ is the transposed $\\vec{x}$ (see (7)) of the $j$-th data piece. Each row corresponds to a data pair in the training data. *Gradient descent* in which every data pair is considered in each iteration is called *batch gradient descent*. Here is an example of $X$:\n",
    "\n",
    "$$\\begin{eqnarray}\n",
    "X =  \\begin{bmatrix} 1 & x_0 \\\\ 1 & x_1 \\\\ 1 & x_2 \\\\ 1 & x_3 \\end{bmatrix}\n",
    "\\tag{7}\n",
    "\\end{eqnarray}$$\n",
    "\n",
    "-----"
   ]
  },
  {
   "cell_type": "markdown",
   "metadata": {},
   "source": [
    "## The Implementation"
   ]
  },
  {
   "cell_type": "code",
   "execution_count": 1,
   "metadata": {},
   "outputs": [],
   "source": [
    "import numpy as np\n",
    "\n",
    "def h(x, theta):\n",
    "    \"\"\" Calculate the estimated values.\n",
    "    \n",
    "    :param x: input data, feature matrix\n",
    "    :param theta: the estimated linear model's parameters\n",
    "    :return estimated values: estimated values based on the given model parameters theta\n",
    "    \"\"\"\n",
    "    return np.matmul(x, theta)\n",
    "\n",
    "def compute_costs(x, y, theta):\n",
    "    \"\"\" Calculates the squared error between ground truth y and predicted output y'\n",
    "\n",
    "    :param x: input data, feature matrix\n",
    "    :param y: output data, ground truth\n",
    "    :param theta: the estimated linear model's parameters\n",
    "    :return error: squared error of the estimated model\n",
    "    \"\"\"\n",
    "    N = y.shape[0] # number of samples\n",
    "    return 1/(2 * N) * sum(np.power(h(x, theta) - y, 2)) # vectorized form of (2)\n",
    "\n",
    "def gradient_descent(x, y, theta, alpha=0.01, num_iters=100):\n",
    "    \"\"\" Performs gradient descent to determine the best possible model based on given input data (x)\n",
    "        and output data (y)\n",
    "\n",
    "    :param x: input data, feature matrix\n",
    "    :param y: output data, ground truth\n",
    "    :param theta: initial linear model's parameters\n",
    "    :param alpha: learning rate\n",
    "    :param num_iters: number of iterations to run gradient descent\n",
    "    :return theta: estimated linear model's parameters\n",
    "    :return costs: list containing the calculated cost for each iteration\n",
    "    \"\"\"\n",
    "    m, n = x.shape\n",
    "    costs = []\n",
    "    \n",
    "    # also calculate for first iteration    \n",
    "    costs.append(compute_costs(x, y, theta)) \n",
    "    \n",
    "    for i in range(num_iters):\n",
    "        # adjust theta\n",
    "        theta -= alpha * (1 / m) * np.matmul(np.transpose(x), (np.matmul(x, theta) - y)) # see (7)\n",
    "        # calculate cost for current iter\n",
    "        costs.append(compute_costs(x, y, theta))\n",
    "\n",
    "    return theta, costs"
   ]
  },
  {
   "cell_type": "markdown",
   "metadata": {},
   "source": [
    "## The Data"
   ]
  },
  {
   "cell_type": "code",
   "execution_count": 2,
   "metadata": {},
   "outputs": [
    {
     "data": {
      "image/png": "[encoded data removed]",
      "text/plain": [
       "<Figure size 1080x360 with 1 Axes>"
      ]
     },
     "metadata": {
      "needs_background": "light"
     },
     "output_type": "display_data"
    }
   ],
   "source": [
    "# Generates y values given x to demonstrate linear regression analysis\n",
    "def generate_data(x):\n",
    "    noise = np.random.random_sample((x.shape[0], 1)) * 15 - 7.5\n",
    "    return 2.5 * x + 13 + noise # basically y = \\theta_1 * x + theta_0 with noise added\n",
    "\n",
    "# Generate data\n",
    "np.random.seed(4)\n",
    "x = np.random.random_sample((40,1)) * 15 - 7.5\n",
    "y = generate_data(x)\n",
    "\n",
    "# Add ones column\n",
    "x = np.concatenate((x, np.ones((x.shape[0], 1))), axis=1)\n",
    "\n",
    "# Plot data points\n",
    "%matplotlib inline\n",
    "import matplotlib.pyplot as plt\n",
    "\n",
    "plt.figure(1, figsize=(15, 5))\n",
    "plt.xlabel(\"x\")\n",
    "plt.ylabel(\"y\")\n",
    "plt.plot(x[:,0], y, \"bo\")\n",
    "plt.legend([\"Training data\"])\n",
    "plt.show()"
   ]
  },
  {
   "cell_type": "markdown",
   "metadata": {},
   "source": [
    "## Regression Analysis"
   ]
  },
  {
   "cell_type": "code",
   "execution_count": 3,
   "metadata": {},
   "outputs": [
    {
     "name": "stdout",
     "output_type": "stream",
     "text": [
      "[[ 2.49547155]\n",
      " [13.29556962]]\n"
     ]
    },
    {
     "data": {
      "image/png": "[encoded data removed]",
      "text/plain": [
       "<Figure size 432x288 with 1 Axes>"
      ]
     },
     "metadata": {
      "needs_background": "light"
     },
     "output_type": "display_data"
    }
   ],
   "source": [
    "# Execute gradient descent\n",
    "theta = np.random.rand(x.shape[1], 1)\n",
    "theta, costs = gradient_descent(x, y, theta, alpha=0.05, num_iters=100)\n",
    "print(theta)\n",
    "\n",
    "# Plot the costs during gradient descent\n",
    "plt.figure(1)\n",
    "plt.plot(range(len(costs)), costs, \"b-\")\n",
    "plt.xlabel(\"Iterations\")\n",
    "plt.ylabel(\"Cost J\")\n",
    "plt.show()"
   ]
  },
  {
   "cell_type": "code",
   "execution_count": 4,
   "metadata": {},
   "outputs": [
    {
     "data": {
      "image/png": "[encoded data removed]",
      "text/plain": [
       "<Figure size 1080x360 with 1 Axes>"
      ]
     },
     "metadata": {
      "needs_background": "light"
     },
     "output_type": "display_data"
    }
   ],
   "source": [
    "# Plot the training data x, y\n",
    "plt.figure(1, figsize=(15, 5))\n",
    "plt.xlabel(\"x\")\n",
    "plt.ylabel(\"y\")\n",
    "plt.plot(x[:,0], y, \"bo\") # data\n",
    "\n",
    "# Create data to present the estimated model\n",
    "x_ = np.arange(-10,10).reshape(-1, 1)\n",
    "x_ = np.concatenate((x_, np.ones((x_.shape[0], 1))), axis=1)\n",
    "\n",
    "# Plot the estimated model\n",
    "plt.plot(x_[:,0], h(x_, theta), \"r-\")\n",
    "plt.legend([\"Training data\", \"Estimated model\"])\n",
    "plt.show()"
   ]
  },
  {
   "cell_type": "markdown",
   "metadata": {},
   "source": [
    "The values for $\\theta$ are pretty close to the original function's parameters. Overall, it looks like the model fits the data points."
   ]
  }
 ],
 "metadata": {
  "kernelspec": {
   "display_name": "Python 3",
   "language": "python",
   "name": "python3"
  },
  "language_info": {
   "codemirror_mode": {
    "name": "ipython",
    "version": 3
   },
   "file_extension": ".py",
   "mimetype": "text/x-python",
   "name": "python",
   "nbconvert_exporter": "python",
   "pygments_lexer": "ipython3",
   "version": "3.7.3"
  }
 },
 "nbformat": 4,
 "nbformat_minor": 2
}
