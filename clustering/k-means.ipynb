{
 "cells": [
  {
   "cell_type": "markdown",
   "metadata": {},
   "source": [
    "# K-Means Clustering\n",
    "-----\n",
    "\n",
    "NOTE: Please read this notebook [here](https://nbviewer.jupyter.org/github/FG-33/ml-algorithms/blob/master/clustering/k-means.ipynb?flush_cache=True). It is not rendered properly on Github.\n",
    "\n",
    "This notebook was created using the concepts and ideas conveyed in Stanford's lecture/course *Machine Learning* by Andrew Ng.\n",
    "\n",
    "## Theory\n",
    "\n",
    "K-Means clustering is an algorithm with the goal to cluster/group data into $K$ groups/clusters based on their similarity. \n",
    "\n",
    "insert orher/Nachher Vergleich\n",
    "\n",
    "\n",
    "The similarity will be measured with a fixed heuristic. An example for data points in a two dimensional space could, for example, be the euclidian distance. Therefore the initial situation when using k-means consists of a set of x-dimensional data points:\n",
    "\n",
    "$$ X = \\{x^{(1)}, x^{(2)}, x^{(3)}, x^{(4}, .., x^{(m)}\\} $$\n",
    "\n",
    "and a heuristic (the *euclidian distance* between a data point $x$ and a cluster center $\\mu$, also known as centroid):\n",
    "\n",
    "$$ d = || x - \\mu ||^2 $$ \n",
    "\n",
    "In the beginning of the algorithm $K$ cluster centers are initialized. Every data point is then assigned to the centroid it's closest to. This assignement of a data point to a cluster is noted as $c^{(i)}$:\n",
    "\n",
    "$$ c^{(i)} = min_k || x^{(i)} - \\mu_k ||_2 $$\n",
    "\n",
    "After assigning the $m$ data points the centroid's shifted based on it's assigned data points. The mean position of the data points is calculated and then assigned as the new position for their centroid. Next, the data points are assigned to their closest centroid again and the centroid's position is adjusted. This is repeated until the distribution does not change anymore. In the end the a cost can be calculated to measure how good the resuling clustering is:\n",
    "\n",
    "$$J(c^{(1)}, .., c^{(m)}, \\mu_1, .., \\mu_K) = \\frac{1}{m} \\sum_{i=1}^m || x^{(i)} - \\mu_{c^{(i)}} ||_2 $$ \n",
    "\n",
    "In practive multiple configurations with random initialized clusters are processed until convergence to compare the final cost to get a good fit.\n",
    "\n",
    "----"
   ]
  },
  {
   "cell_type": "markdown",
   "metadata": {},
   "source": [
    "## Implementation"
   ]
  },
  {
   "cell_type": "code",
   "execution_count": 1,
   "metadata": {},
   "outputs": [],
   "source": [
    "import numpy as np\n",
    "\n",
    "def euclidean(a, b):\n",
    "    \"\"\" Calculates the euclidean distance between two vectors.\n",
    "    \n",
    "    :param a: first vector\n",
    "    :param b: second vector\n",
    "    \n",
    "    :return distance: euclidean distance between a and b\n",
    "    \"\"\"\n",
    "    return np.sqrt(np.power(a - b, 2).sum())\n",
    "    \n",
    "def k_means(x, k, scale=1.5, epsilon=0.005):\n",
    "    \"\"\" Clusters the given data using the k-means algorithm.\n",
    "    \n",
    "    :param x: n x m matrix containing m n-dimensional vectors representing data points\n",
    "    :param k: number of centroids\n",
    "    :param scale: scale value to increase area where centroids can be generated\n",
    "                  (1 = only in the area where data points are)\n",
    "    :param epsilon: break condition\n",
    "    \n",
    "    :return c_list: indexes of centroids the corresponding data point is assigned to for each iteration\n",
    "    :return centroids: n x k matrix containing k n-dimensional vectors representing centroid positions\n",
    "                       for each iteration\n",
    "    \"\"\"\n",
    "    # data properties\n",
    "    n, m = x.shape\n",
    "    max_per_dim = np.amax(x, axis=1, keepdims=True)\n",
    "    min_per_dim = np.amin(x, axis=1, keepdims=True)\n",
    "    diff_max_min = max_per_dim - min_per_dim\n",
    "    center_max_min = min_per_dim + diff_max_min / 2\n",
    "    scale = 2\n",
    "    \n",
    "    # return values initialization\n",
    "    c_list = []\n",
    "    centroids_list = []\n",
    "    \n",
    "    # randomly initialize centroids\n",
    "    centroids = np.random.rand(2,k) * (diff_max_min * scale) + center_max_min - (diff_max_min * scale / 2)\n",
    "    centroids_list.append(np.copy(centroids))\n",
    "        \n",
    "    # initialize centroid assignement list\n",
    "    c = np.zeros((m,), dtype=np.int8)\n",
    "    c_list.append(c)\n",
    "\n",
    "    # clustering\n",
    "    while(True):\n",
    "    \n",
    "        # assign data points to centroids\n",
    "        for i in range(m):\n",
    "            # calc distances to all centroids\n",
    "            distances = [euclidean(x[:,i], centroids[:,j]) for j in range(k)]\n",
    "            # assign centroid with smallest distance to this data point\n",
    "            _, idx = min((val, idx) for (idx, val) in enumerate(distances))\n",
    "            c[i] = idx\n",
    "        \n",
    "        c_list.append(np.array(c))\n",
    "\n",
    "        # calculate new position of centroids\n",
    "        for centroid in range(k):\n",
    "            mean = np.zeros((n,))\n",
    "            points = 0\n",
    "            # add up assigned points of centroid\n",
    "            for i in range(m):\n",
    "                if c[i] == centroid:\n",
    "                    points += 1\n",
    "                    mean += x[:,i]\n",
    "            # if centroid has a single assigned data point at least update its positino\n",
    "            if points > 0:\n",
    "                centroids[:, centroid] = mean / points\n",
    "            \n",
    "        centroids_list.append(np.copy(centroids))\n",
    "        \n",
    "        # if the difference of the centroid position is smaller then break\n",
    "        diff = np.power(centroids_list[-2] - centroids_list[-1],2).sum()\n",
    "        if diff < epsilon:\n",
    "            break\n",
    "    \n",
    "    return c_list, centroids_list\n",
    "\n",
    "def split(c, x):\n",
    "    \"\"\" Splits the given data into separate list according the the given assignment.\n",
    "    \n",
    "    :param c: the assignment of the data points to centroids\n",
    "    :param x: n x m matrix containing m n-dimensional vectors representing data points\n",
    "    \n",
    "    :return split_sets: list of the separated data points \n",
    "    \n",
    "    \"\"\"\n",
    "    split_sets = []\n",
    "    \n",
    "    np_c = np.array(c)\n",
    "    centroids = np.unique(np_c)\n",
    "    \n",
    "    for centroid in centroids:\n",
    "        idx = np.array(np_c.transpose() == centroid)\n",
    "        split_sets.append(x.transpose()[idx == True].transpose())\n",
    "        \n",
    "    return split_sets\n",
    "\n",
    "def calc_cost(centroids, x, c):\n",
    "    \"\"\" Calculates the cost of assignments for the given data points and centroids.\n",
    "    \n",
    "    :param centroids: n x k matrix containing k n-dimensional vectors representing centroid positions\n",
    "    :param x: n x m matrix containing m n-dimensional vectors representing data points\n",
    "    \n",
    "    :return cost: the cost of the constellation/assigment\n",
    "    \"\"\"\n",
    "    n, m = x.shape\n",
    "    cost = 0\n",
    "    \n",
    "    for i in range(m):\n",
    "        cost += euclidean(x[:,i], centroids[:,c[i]])\n",
    "        \n",
    "    return cost / m"
   ]
  },
  {
   "cell_type": "markdown",
   "metadata": {},
   "source": [
    "## Data"
   ]
  },
  {
   "cell_type": "code",
   "execution_count": 2,
   "metadata": {},
   "outputs": [
    {
     "data": {
      "image/png": "[encoded data removed]",
      "text/plain": [
       "<Figure size 504x504 with 1 Axes>"
      ]
     },
     "metadata": {
      "needs_background": "light"
     },
     "output_type": "display_data"
    }
   ],
   "source": [
    "# set seed for reproducibility\n",
    "np.random.seed(100923)\n",
    "\n",
    "# generate three random sets of points\n",
    "r = np.random.rand(2, 10) * 60\n",
    "g = np.random.rand(2, 10) * 40 + np.array([[80],[0]])\n",
    "b = np.random.rand(2, 10) * 70 + np.array([[95],[55]])\n",
    "\n",
    "%matplotlib inline\n",
    "import matplotlib.pyplot as plt\n",
    "\n",
    "# plot the three sets\n",
    "plt.figure(1, figsize=(7,7))\n",
    "plt.plot(r[0,:], r[1,:], 'co')\n",
    "plt.plot(g[0,:], g[1,:], 'mo')\n",
    "plt.plot(b[0,:], b[1,:], 'yo')\n",
    "plt.show()\n",
    "\n",
    "# combine the sets\n",
    "x = np.concatenate((np.concatenate((r, g), axis=1), b), axis=1)"
   ]
  },
  {
   "cell_type": "markdown",
   "metadata": {},
   "source": [
    "## Clustering the data\n",
    "\n",
    "The optimal number of centroids to run k-means with is difficult to determine. Therefore the choosen approach is to cluster the data multiple times using different amounts of centroids. For each clustering the cost of the resulting assignment is calculated and compared afterwards. "
   ]
  },
  {
   "cell_type": "code",
   "execution_count": 3,
   "metadata": {},
   "outputs": [
    {
     "name": "stdout",
     "output_type": "stream",
     "text": [
      "Current cluster: 10\r"
     ]
    },
    {
     "data": {
      "image/png": "[encoded data removed]",
      "text/plain": [
       "<Figure size 504x504 with 1 Axes>"
      ]
     },
     "metadata": {
      "needs_background": "light"
     },
     "output_type": "display_data"
    }
   ],
   "source": [
    "costs = []\n",
    "max_clusters = 10 # try with 1-10 centroids\n",
    "\n",
    "for k in range(1, max_clusters+1):\n",
    "    \n",
    "    cost = 0\n",
    "    iterations = 50\n",
    "    for i in range(iterations):\n",
    "    \n",
    "        c_list, centroids_list = k_means(x, k)\n",
    "        cost += calc_cost(centroids_list[-1], x, c_list[-1])\n",
    "    \n",
    "    print(\"Current cluster: {}\".format(k), end=\"\\r\")        \n",
    "    costs.append(cost / iterations)\n",
    "    \n",
    "plt.figure(2, figsize=(7,7))\n",
    "plt.plot(range(1, max_clusters+1), costs, \"b-\")\n",
    "plt.show()"
   ]
  },
  {
   "cell_type": "markdown",
   "metadata": {},
   "source": [
    "Based on the above plot, the optimal amount of centroids is either $3$ or $4$. It is important to note that the $cost$ will go to $0$ if $k$ goes to $m$. Therefore the amount of centroids is choosen at the part of the graph, starting from the beginning of it, where the slope decreases significantly. This is the case between $3$ and $4$."
   ]
  },
  {
   "cell_type": "code",
   "execution_count": 4,
   "metadata": {},
   "outputs": [
    {
     "data": {
      "image/png": "[encoded data removed]",
      "text/plain": [
       "<Figure size 504x504 with 1 Axes>"
      ]
     },
     "metadata": {
      "needs_background": "light"
     },
     "output_type": "display_data"
    }
   ],
   "source": [
    "# cluster the given data with 3 centroids\n",
    "cluster_num = 3\n",
    "c_list, centroids_list = k_means(x, 3)\n",
    "\n",
    "import time\n",
    "from IPython import display\n",
    "\n",
    "# Plot clustering process\n",
    "style = ['bo','go', 'ro', 'co', 'mo', 'yo']\n",
    "plt.figure(1, figsize=(7,7))\n",
    "for t in range(len(c_list)):\n",
    "    \n",
    "    # calc sets to color the data points\n",
    "    sets = split(c_list[t], x)\n",
    "    \n",
    "    # time delay for the 'animation'\n",
    "    time.sleep(0.5)\n",
    "    \n",
    "    # clear the plot\n",
    "    plt.clf()\n",
    "    plt.axis([-40, 220, -50, 175])\n",
    "    \n",
    "    # plot the data\n",
    "    for i, set_ in enumerate(sets):\n",
    "            plt.plot(set_[0,:], set_[1,:], style[i]) # do not use this with more than 6 centroids\n",
    "            \n",
    "    plt.plot(centroids_list[t][0,:], centroids_list[t][1,:], 'k*', ms=15)\n",
    "    \n",
    "    # handle animation\n",
    "    display.display(plt.gcf())\n",
    "    display.clear_output(wait=True)"
   ]
  },
  {
   "cell_type": "markdown",
   "metadata": {},
   "source": [
    "## Testing\n",
    "\n",
    "The following code sections can be ignored."
   ]
  },
  {
   "cell_type": "code",
   "execution_count": 5,
   "metadata": {},
   "outputs": [
    {
     "name": "stderr",
     "output_type": "stream",
     "text": [
      "UsageError: %%script is a cell magic, but the cell body is empty.\n"
     ]
    }
   ],
   "source": [
    "%%script false "
   ]
  },
  {
   "cell_type": "code",
   "execution_count": null,
   "metadata": {},
   "outputs": [],
   "source": [
    "# split data tests\n",
    "\n",
    "a = np.array([3,1,1,1,1,2,2,2,3,3])\n",
    "data = np.array([[1,2,3,4,5,6,7,8,9,10],[1,2,3,4,5,6,7,8,9,10]])\n",
    "\n",
    "np_a = np.array(a)\n",
    "np_a_unique = np.unique(np_a)\n",
    "\n",
    "\n",
    "sets = split(a, data)\n",
    "\n",
    "for set_ in sets:\n",
    "    print(set_)"
   ]
  },
  {
   "cell_type": "code",
   "execution_count": null,
   "metadata": {},
   "outputs": [],
   "source": [
    "# cost testing\n",
    "a = np.array([0, 0])\n",
    "centroids = np.array([[1],[1]])\n",
    "b = np.array([[0, 1],[0, 1]])\n",
    "\n",
    "cost = calc_cost(centroids, b, a)\n",
    "\n",
    "print(cost)"
   ]
  },
  {
   "cell_type": "code",
   "execution_count": null,
   "metadata": {},
   "outputs": [],
   "source": [
    "a = np.array([[1,2,3],[1,2,3]])\n",
    "print(a.sum())"
   ]
  }
 ],
 "metadata": {
  "kernelspec": {
   "display_name": "Python 3",
   "language": "python",
   "name": "python3"
  },
  "language_info": {
   "codemirror_mode": {
    "name": "ipython",
    "version": 3
   },
   "file_extension": ".py",
   "mimetype": "text/x-python",
   "name": "python",
   "nbconvert_exporter": "python",
   "pygments_lexer": "ipython3",
   "version": "3.7.3"
  }
 },
 "nbformat": 4,
 "nbformat_minor": 2
}
